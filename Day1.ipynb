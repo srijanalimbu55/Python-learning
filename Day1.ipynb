{
 "cells": [
  {
   "cell_type": "code",
   "execution_count": 1,
   "id": "355d2e58",
   "metadata": {},
   "outputs": [
    {
     "data": {
      "text/plain": [
       "array([10, 20, 30, 40])"
      ]
     },
     "execution_count": 1,
     "metadata": {},
     "output_type": "execute_result"
    }
   ],
   "source": [
    "import numpy as np\n",
    "n1 = np.array ([10, 20, 30, 40])\n",
    "n1\n"
   ]
  },
  {
   "cell_type": "code",
   "execution_count": 2,
   "id": "f98cd2fa",
   "metadata": {},
   "outputs": [
    {
     "data": {
      "text/plain": [
       "numpy.ndarray"
      ]
     },
     "execution_count": 2,
     "metadata": {},
     "output_type": "execute_result"
    }
   ],
   "source": [
    "type(n1)"
   ]
  },
  {
   "cell_type": "code",
   "execution_count": 4,
   "id": "6f5b83dc",
   "metadata": {},
   "outputs": [],
   "source": [
    "import numpy as np\n",
    "n2 = np.array ([[10, 20, 30, 55],[50, 60, 66, 77],[50, 60, 66, 77], [50, 60, 66, 77],[50, 60, 66, 77]])"
   ]
  },
  {
   "cell_type": "code",
   "execution_count": 5,
   "id": "e3545796",
   "metadata": {},
   "outputs": [],
   "source": [
    "n3 = np.zeros((4,5))"
   ]
  },
  {
   "cell_type": "code",
   "execution_count": 6,
   "id": "ee88a92f",
   "metadata": {},
   "outputs": [
    {
     "data": {
      "text/plain": [
       "array([[0., 0., 0., 0., 0.],\n",
       "       [0., 0., 0., 0., 0.],\n",
       "       [0., 0., 0., 0., 0.],\n",
       "       [0., 0., 0., 0., 0.]])"
      ]
     },
     "execution_count": 6,
     "metadata": {},
     "output_type": "execute_result"
    }
   ],
   "source": [
    "n3//print"
   ]
  },
  {
   "cell_type": "code",
   "execution_count": 7,
   "id": "56a6cc23",
   "metadata": {},
   "outputs": [],
   "source": [
    "n4 = np.full((3,3),9)"
   ]
  },
  {
   "cell_type": "code",
   "execution_count": 8,
   "id": "210067d2",
   "metadata": {},
   "outputs": [
    {
     "data": {
      "text/plain": [
       "array([[9, 9, 9],\n",
       "       [9, 9, 9],\n",
       "       [9, 9, 9]])"
      ]
     },
     "execution_count": 8,
     "metadata": {},
     "output_type": "execute_result"
    }
   ],
   "source": [
    "n4"
   ]
  },
  {
   "cell_type": "code",
   "execution_count": 13,
   "id": "43260e74",
   "metadata": {},
   "outputs": [],
   "source": [
    "n5 = np.arange(1,10)"
   ]
  },
  {
   "cell_type": "code",
   "execution_count": 14,
   "id": "e55b8c87",
   "metadata": {},
   "outputs": [
    {
     "data": {
      "text/plain": [
       "array([1, 2, 3, 4, 5, 6, 7, 8, 9])"
      ]
     },
     "execution_count": 14,
     "metadata": {},
     "output_type": "execute_result"
    }
   ],
   "source": [
    "n5"
   ]
  },
  {
   "cell_type": "code",
   "execution_count": 15,
   "id": "95c1eb10",
   "metadata": {},
   "outputs": [],
   "source": [
    "n6 = (10,20)"
   ]
  },
  {
   "cell_type": "code",
   "execution_count": 16,
   "id": "eca01e01",
   "metadata": {},
   "outputs": [
    {
     "data": {
      "text/plain": [
       "(10, 20)"
      ]
     },
     "execution_count": 16,
     "metadata": {},
     "output_type": "execute_result"
    }
   ],
   "source": [
    "n6\n"
   ]
  },
  {
   "cell_type": "code",
   "execution_count": 17,
   "id": "9762dbdb",
   "metadata": {},
   "outputs": [],
   "source": [
    "n5 = np.arange(1,20,3)"
   ]
  },
  {
   "cell_type": "code",
   "execution_count": 18,
   "id": "e9e7c467",
   "metadata": {},
   "outputs": [
    {
     "data": {
      "text/plain": [
       "array([ 1,  4,  7, 10, 13, 16, 19])"
      ]
     },
     "execution_count": 18,
     "metadata": {},
     "output_type": "execute_result"
    }
   ],
   "source": [
    "n5"
   ]
  },
  {
   "cell_type": "code",
   "execution_count": 25,
   "id": "20c944d5",
   "metadata": {},
   "outputs": [],
   "source": [
    "n7 = np.random.randint(10000, 100000, 2)"
   ]
  },
  {
   "cell_type": "code",
   "execution_count": 26,
   "id": "28ff9887",
   "metadata": {},
   "outputs": [
    {
     "data": {
      "text/plain": [
       "array([52395, 18651])"
      ]
     },
     "execution_count": 26,
     "metadata": {},
     "output_type": "execute_result"
    }
   ],
   "source": [
    "n7"
   ]
  },
  {
   "cell_type": "code",
   "execution_count": 30,
   "id": "b520d3cb",
   "metadata": {},
   "outputs": [],
   "source": [
    "n8 = np.random.randint(100, 200, 3)"
   ]
  },
  {
   "cell_type": "code",
   "execution_count": 31,
   "id": "d6bd159f",
   "metadata": {},
   "outputs": [
    {
     "data": {
      "text/plain": [
       "array([177, 105, 160])"
      ]
     },
     "execution_count": 31,
     "metadata": {},
     "output_type": "execute_result"
    }
   ],
   "source": [
    "n8"
   ]
  },
  {
   "cell_type": "code",
   "execution_count": 32,
   "id": "e58e04b2",
   "metadata": {},
   "outputs": [],
   "source": [
    "//joining\n",
    "import numpy as np\n",
    "n9 = np.array ([[10, 20, 30, 55],[50, 60, 66, 77],[50, 60, 66, 77], [50, 60, 66, 77],[50, 60, 66, 77]])"
   ]
  },
  {
   "cell_type": "code",
   "execution_count": 33,
   "id": "da072f91",
   "metadata": {},
   "outputs": [
    {
     "data": {
      "text/plain": [
       "array([[10, 20, 30, 55],\n",
       "       [50, 60, 66, 77],\n",
       "       [50, 60, 66, 77],\n",
       "       [50, 60, 66, 77],\n",
       "       [50, 60, 66, 77]])"
      ]
     },
     "execution_count": 33,
     "metadata": {},
     "output_type": "execute_result"
    }
   ],
   "source": [
    "n9"
   ]
  },
  {
   "cell_type": "code",
   "execution_count": 37,
   "id": "790e5ed3",
   "metadata": {},
   "outputs": [
    {
     "data": {
      "text/plain": [
       "(4, 5)"
      ]
     },
     "execution_count": 37,
     "metadata": {},
     "output_type": "execute_result"
    }
   ],
   "source": [
    "n9.shape"
   ]
  },
  {
   "cell_type": "code",
   "execution_count": 38,
   "id": "06ceeaf4",
   "metadata": {},
   "outputs": [],
   "source": [
    "n9.shape = (4, 5)\n"
   ]
  },
  {
   "cell_type": "code",
   "execution_count": 39,
   "id": "1ba01912",
   "metadata": {},
   "outputs": [
    {
     "data": {
      "text/plain": [
       "array([[10, 20, 30, 55, 50],\n",
       "       [60, 66, 77, 50, 60],\n",
       "       [66, 77, 50, 60, 66],\n",
       "       [77, 50, 60, 66, 77]])"
      ]
     },
     "execution_count": 39,
     "metadata": {},
     "output_type": "execute_result"
    }
   ],
   "source": [
    "n9"
   ]
  },
  {
   "cell_type": "code",
   "execution_count": 40,
   "id": "74de1eb4",
   "metadata": {},
   "outputs": [],
   "source": [
    "import numpy as np"
   ]
  },
  {
   "cell_type": "code",
   "execution_count": 42,
   "id": "0e72f728",
   "metadata": {},
   "outputs": [],
   "source": [
    "a = np.array([10, 20, 30])\n",
    "b = np.array([30, 40, 50])"
   ]
  },
  {
   "cell_type": "code",
   "execution_count": 43,
   "id": "b143c37c",
   "metadata": {},
   "outputs": [
    {
     "data": {
      "text/plain": [
       "array([[10, 20, 30],\n",
       "       [30, 40, 50]])"
      ]
     },
     "execution_count": 43,
     "metadata": {},
     "output_type": "execute_result"
    }
   ],
   "source": [
    "np.vstack((a,b)) #joining the numpy as vertical stacking"
   ]
  },
  {
   "cell_type": "code",
   "execution_count": 45,
   "id": "e4e4ca72",
   "metadata": {},
   "outputs": [
    {
     "data": {
      "text/plain": [
       "array([10, 20, 30, 30, 40, 50])"
      ]
     },
     "execution_count": 45,
     "metadata": {},
     "output_type": "execute_result"
    }
   ],
   "source": [
    "np.hstack((a, b)) # joining the numpy as horizontal stacking"
   ]
  },
  {
   "cell_type": "code",
   "execution_count": 47,
   "id": "6b743540",
   "metadata": {},
   "outputs": [
    {
     "data": {
      "text/plain": [
       "array([[10, 30],\n",
       "       [20, 40],\n",
       "       [30, 50]])"
      ]
     },
     "execution_count": 47,
     "metadata": {},
     "output_type": "execute_result"
    }
   ],
   "source": [
    "np.column_stack((a, b)) # joining the numpy as column stacking"
   ]
  },
  {
   "cell_type": "code",
   "execution_count": 48,
   "id": "555ae7b3",
   "metadata": {},
   "outputs": [],
   "source": [
    "import numpy as np #numpy as intersection and difference"
   ]
  },
  {
   "cell_type": "code",
   "execution_count": null,
   "id": "9d01bb19",
   "metadata": {},
   "outputs": [],
   "source": []
  }
 ],
 "metadata": {
  "kernelspec": {
   "display_name": "Python 3 (ipykernel)",
   "language": "python",
   "name": "python3"
  },
  "language_info": {
   "codemirror_mode": {
    "name": "ipython",
    "version": 3
   },
   "file_extension": ".py",
   "mimetype": "text/x-python",
   "name": "python",
   "nbconvert_exporter": "python",
   "pygments_lexer": "ipython3",
   "version": "3.11.5"
  }
 },
 "nbformat": 4,
 "nbformat_minor": 5
}
